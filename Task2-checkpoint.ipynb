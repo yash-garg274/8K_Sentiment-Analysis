{
 "cells": [
  {
   "cell_type": "code",
   "execution_count": 65,
   "id": "aef576cd",
   "metadata": {},
   "outputs": [],
   "source": [
    "import pandas as pd\n",
    "import csv\n",
    "\n",
    "dictionary = pd.read_csv(\"Loughran-McDonald_MasterDictionary_1993-2021.csv\")  #Loading the dictionary\n",
    "\n",
    "dictionary[\"Word\"] = dictionary[\"Word\"].str.lower()\n",
    "\n",
    "\n",
    "##Contains all the words from dictionary\n",
    "dictionary_words = []\n",
    "for word in dictionary[\"Word\"].values.tolist():\n",
    "    dictionary_words.append(word)\n",
    "\n",
    "##Contains all the words from the dictionary which are Positive\n",
    "positive_words = []\n",
    "for row_num_p, dict_data_p in dictionary.iterrows():\n",
    "    if(dict_data_p[\"Positive\"]>0):\n",
    "        positive_words.append(dict_data_p[\"Word\"].lower())\n",
    "        \n",
    "##Contains all the words from the dictionary which are Negative\n",
    "negative_words = []\n",
    "for row_num_n, dict_data_n in dictionary.iterrows():\n",
    "    if(dict_data_n[\"Negative\"]>0):\n",
    "        negative_words.append(dict_data_n[\"Word\"].lower())\n",
    "\n",
    "\n"
   ]
  },
  {
   "cell_type": "code",
   "execution_count": 81,
   "id": "e34d7ceb",
   "metadata": {},
   "outputs": [
    {
     "name": "stdout",
     "output_type": "stream",
     "text": [
      "0      -0.022819\n",
      "1      -0.012579\n",
      "2      -0.013405\n",
      "3      -0.024390\n",
      "4      -0.013187\n",
      "          ...   \n",
      "1075   -0.009701\n",
      "1076   -0.026279\n",
      "1077    0.000000\n",
      "1078    0.007595\n",
      "1079    0.000000\n",
      "Name: Sentiment_Score, Length: 1080, dtype: float64\n"
     ]
    }
   ],
   "source": [
    "import pandas as pd\n",
    "import csv\n",
    "import os\n",
    "\n",
    "directory = '8K_filing'\n",
    "\n",
    "cf = pd.read_csv(\"csv_file.csv\")\n",
    "\n",
    "\n",
    "def positive_score(text):\n",
    "    \"\"\"\n",
    "    Calculates the no. of Positive words in the text which are in the positive_words list\n",
    "    \"\"\"\n",
    "    numPosWords = 0\n",
    "    split_text = text.split()\n",
    "    for word in split_text:\n",
    "        if word in positive_words:\n",
    "            numPosWords  += 1\n",
    "    \n",
    "    sumPos = numPosWords\n",
    "    return sumPos\n",
    "\n",
    "def negative_score(text):\n",
    "    \"\"\"\n",
    "    Calculates the no. of Negative words in the text which are in the positive_words list\n",
    "    \"\"\"\n",
    "    numNegWords=0\n",
    "    split_text = text.split()\n",
    "    for word in split_text:\n",
    "        if word in negative_words:\n",
    "            numNegWords -=1\n",
    "    sumNeg = numNegWords \n",
    "    sumNeg = sumNeg * -1\n",
    "    return sumNeg\n",
    "    \n",
    "\n",
    "sentiment_list = [] \n",
    "\n",
    "##Iterates through each row of the Dataframe\n",
    "for num, data in cf.iterrows():\n",
    "    file_name = data[\"Name_of_text_file\"]\n",
    "    file_dic = os.path.join(directory, file_name)\n",
    "    file = open(file_dic, \"r\")\n",
    "    text = file.read()\n",
    "    \n",
    "    neg_count = negative_score(text)\n",
    "    pos_count = positive_score(text)\n",
    "    total_words = 0\n",
    "    \n",
    "    new_text = text.split()\n",
    "    sentiment = 0\n",
    "    \n",
    "    ##Calculates the total no. of words in the text which are in the dictionary\n",
    "    for word in new_text:\n",
    "        if word in dictionary_words:\n",
    "            total_words +=1\n",
    "            \n",
    "    if total_words != 0:\n",
    "        sentiment = (pos_count-neg_count)/total_words\n",
    "    sentiment_list.append(sentiment)\n",
    "\n",
    "cf[\"Sentiment_Score\"] = sentiment_list\n",
    "print(cf[\"Sentiment_Score\"])    ##Final Sentiment score of each text file\n",
    "\n",
    "cf.to_csv(\"final.csv\")      ## final.csv contains the CIK no., Date of filing, Name of the text file and Sentiment Score"
   ]
  },
  {
   "cell_type": "markdown",
   "id": "0478d593",
   "metadata": {},
   "source": [
    "## **Descriptive Statistics**"
   ]
  },
  {
   "cell_type": "code",
   "execution_count": 86,
   "id": "5d02acff",
   "metadata": {},
   "outputs": [
    {
     "data": {
      "text/plain": [
       "count    1080.000000\n",
       "mean       -0.004963\n",
       "std         0.017769\n",
       "min        -0.154930\n",
       "25%        -0.008811\n",
       "50%         0.000000\n",
       "75%         0.005220\n",
       "max         0.044776\n",
       "Name: Sentiment_Score, dtype: float64"
      ]
     },
     "execution_count": 86,
     "metadata": {},
     "output_type": "execute_result"
    }
   ],
   "source": [
    "## Descriptive statistics \n",
    "cf[\"Sentiment_Score\"].describe()"
   ]
  },
  {
   "cell_type": "markdown",
   "id": "82653ec6",
   "metadata": {},
   "source": [
    "## Average Sentiment Score over time"
   ]
  },
  {
   "cell_type": "code",
   "execution_count": 106,
   "id": "d26f38e4",
   "metadata": {},
   "outputs": [],
   "source": [
    "average_sentiment = []\n",
    "avg_year =[]\n",
    "start_year =1995\n",
    "senti_scr = 0\n",
    "for num, data in cf.iterrows():\n",
    "\n",
    "    senti_scr += data[\"Sentiment_Score\"]\n",
    "    if(num%40==39):                                ##40 is used because each quarter contains 10 files so each contains 40 files\n",
    "        average_sentiment.append(senti_scr/40)     ##Average sentiment score over each year \n",
    "        senti_scr=0\n",
    "        avg_year.append(start_year)\n",
    "        start_year += 1\n",
    "\n",
    "\n"
   ]
  },
  {
   "cell_type": "code",
   "execution_count": 118,
   "id": "e7b04558",
   "metadata": {},
   "outputs": [
    {
     "data": {
      "image/png": "[encoded data removed]",
      "text/plain": [
       "<Figure size 432x288 with 1 Axes>"
      ]
     },
     "metadata": {
      "needs_background": "light"
     },
     "output_type": "display_data"
    }
   ],
   "source": [
    "plot_data = {\"Years\": avg_year,\n",
    "        \"Average_Sentiment_Score\": average_sentiment}\n",
    "plot_dataframe = pd.DataFrame(plot_data)\n",
    "plot_dataframe.plot(kind=\"line\",\n",
    "                   x=\"Years\",\n",
    "                   y=\"Average_Sentiment_Score\",\n",
    "                   color=\"red\")\n",
    "plt.show()"
   ]
  },
  {
   "cell_type": "code",
   "execution_count": null,
   "id": "0daae5ee",
   "metadata": {},
   "outputs": [],
   "source": []
  }
 ],
 "metadata": {
  "kernelspec": {
   "display_name": "Python 3",
   "language": "python",
   "name": "python3"
  },
  "language_info": {
   "codemirror_mode": {
    "name": "ipython",
    "version": 3
   },
   "file_extension": ".py",
   "mimetype": "text/x-python",
   "name": "python",
   "nbconvert_exporter": "python",
   "pygments_lexer": "ipython3",
   "version": "3.8.8"
  }
 },
 "nbformat": 4,
 "nbformat_minor": 5
}
